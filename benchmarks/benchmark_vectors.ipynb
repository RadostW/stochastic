{
 "cells": [
  {
   "cell_type": "code",
   "execution_count": 1,
   "source": [
    "#from pychastic.sde_solver import SDESolver\n",
    "#from pychastic.sde_solver import VectorSDESolver\n",
    "import pychastic\n",
    "import matplotlib.pyplot as plt\n",
    "import numpy as np\n",
    "import jax.numpy as jnp\n",
    "from tqdm import tqdm\n"
   ],
   "outputs": [],
   "metadata": {}
  },
  {
   "cell_type": "markdown",
   "source": [
    "# Testing Vector Euler"
   ],
   "metadata": {}
  },
  {
   "cell_type": "code",
   "execution_count": 14,
   "source": [
    "problem = pychastic.sde_problem.VectorSDEProblem(\n",
    "  lambda x: jnp.array([1/(2*x[0]),0]),       # [1/2r,0]\n",
    "  lambda x: jnp.array([\n",
    "    [jnp.cos(x[1]),jnp.sin(x[1])],           # cos \\phi,      sin \\phi\n",
    "    [-jnp.sin(x[1])/x[0],jnp.cos(x[1])/x[0]] # -sin \\phi / r, cos \\phi / r\n",
    "  ]),\n",
    "  dimension = 2,\n",
    "  noiseterms= 2,\n",
    "  x0 = jnp.array([1.0,0.0]), # r=1.0, \\phi=0.0\n",
    "  tmax=1.0\n",
    ")\n",
    "\n",
    "\n",
    "solvers = [\n",
    "  pychastic.sde_solver.VectorSDESolver(scheme='euler'),\n",
    "  #pychastic.sde_solver.VectorSDESolver(scheme='milstein'),\n",
    "]\n",
    "\n",
    "dts = [2**-5, 2**-6, 2**-7, 2**-8]\n",
    "n_rows = 10\n",
    "n_wieners_per_cell = 10\n",
    "\n",
    "results = np.zeros((len(solvers), len(dts), n_rows, n_wieners_per_cell),dtype=dict)  # solver x dt x wiener\n",
    "\n",
    "for n_solver, solver in enumerate(solvers):\n",
    "  for n_dt, dt in tqdm(enumerate(dts)):\n",
    "    solver.dt = dt\n",
    "    #for n_row in tqdm(range(n_rows)):\n",
    "    for n_row in range(n_rows):\n",
    "      #solutions = solver.solve_many(problem,n_trajectories=n_wieners_per_cell)\n",
    "      solutions = np.array([solver.solve(problem,seed = np.random.randint(2**10)) for it in range(n_wieners_per_cell)])\n",
    "      results[n_solver, n_dt, n_row] = solutions"
   ],
   "outputs": [
    {
     "output_type": "stream",
     "name": "stderr",
     "text": [
      "4it [02:04, 31.23s/it]\n"
     ]
    }
   ],
   "metadata": {}
  },
  {
   "cell_type": "code",
   "execution_count": 15,
   "source": [
    "s = results.shape\n",
    "results_flat = results.flatten()\n",
    "def to_cartesian(x):\n",
    "  return x[0]*jnp.array([jnp.cos(x[1]),jnp.sin(x[1])])\n",
    "def f(sol):\n",
    "  x = to_cartesian(sol['last_value'])\n",
    "  x_exact = sol['last_wiener'] + jnp.array([1,0])\n",
    "  e = jnp.sqrt(jnp.sum((x - x_exact)**2)) # L2 norm error\n",
    "  return e\n",
    "errors = np.array([f(x) for x in results_flat]).reshape(s)\n",
    "errors.shape"
   ],
   "outputs": [
    {
     "output_type": "execute_result",
     "data": {
      "text/plain": [
       "(1, 4, 10, 10)"
      ]
     },
     "metadata": {},
     "execution_count": 15
    }
   ],
   "metadata": {}
  },
  {
   "cell_type": "code",
   "execution_count": null,
   "source": [
    "table_euler = errors[0].mean(axis=-1).T\n",
    "mu_euler = table_euler.mean(axis=0)\n",
    "sd_euler = table_euler.std(axis=0)/np.sqrt(n_wieners_per_cell)\n",
    "\n",
    "#table_milstein = errors[1].mean(axis=-1).T\n",
    "#mu_milstein = table_milstein.mean(axis=0)\n",
    "#sd_milstein = table_milstein.std(axis=0)/np.sqrt(n_wieners_per_cell)\n",
    "\n",
    "lsp = jnp.linspace(0.0,0.035,100)\n",
    "mu_pred_euler = [1.6*x**(1/2) for x in lsp]\n",
    "#mu_pred_milstein = [10*x for x in lsp]\n",
    "#mu_pred_milstein_wolfram = [2*x**(2/3) for x in lsp]\n",
    "plt.errorbar(dts, mu_euler, 2*sd_euler, capsize=5, marker='o', label='Euler-Maruyama')\n",
    "#plt.errorbar(dts, mu_milstein, 2*sd_milstein, capsize=5, marker='o', label='Milstein')\n",
    "plt.xlabel('Step size')\n",
    "plt.ylabel('$L_2$ error')\n",
    "plt.ylim((0,.5))\n",
    "plt.plot(lsp, mu_pred_euler)\n",
    "#plt.plot(lsp, mu_pred_milstein)\n",
    "#plt.plot(lsp, mu_pred_milstein_wolfram)\n",
    "plt.legend()"
   ],
   "outputs": [],
   "metadata": {}
  }
 ],
 "metadata": {
  "orig_nbformat": 4,
  "language_info": {
   "name": "python",
   "version": "3.6.9",
   "mimetype": "text/x-python",
   "codemirror_mode": {
    "name": "ipython",
    "version": 3
   },
   "pygments_lexer": "ipython3",
   "nbconvert_exporter": "python",
   "file_extension": ".py"
  },
  "kernelspec": {
   "name": "python3",
   "display_name": "Python 3.6.9 64-bit ('stoch_env': venv)"
  },
  "interpreter": {
   "hash": "b9a5c170018556cfdc05ba186f72ea65517f61c6ceef7234e08db3dad63a63b2"
  }
 },
 "nbformat": 4,
 "nbformat_minor": 2
}