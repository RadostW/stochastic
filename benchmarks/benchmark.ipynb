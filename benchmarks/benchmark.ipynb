{
 "cells": [
  {
   "cell_type": "code",
   "execution_count": 1,
   "source": [
    "from pychastic.problems.kp_4_27 import KloedenPlaten4_27\n",
    "from pychastic.sde_solver import SDESolver\n",
    "import pychastic\n",
    "import matplotlib.pyplot as plt\n",
    "import numpy as np\n",
    "import pandas as pd\n",
    "from tqdm import tqdm\n"
   ],
   "outputs": [],
   "metadata": {}
  },
  {
   "cell_type": "markdown",
   "source": [
    "# Kloeden-Platen PC Exercise 9.3.2"
   ],
   "metadata": {}
  },
  {
   "cell_type": "code",
   "execution_count": 76,
   "source": [
    "a = 1.5\n",
    "b = 1.0\n",
    "problem = pychastic.sde_problem.SDEProblem(\n",
    "  lambda x: a*x,\n",
    "  lambda x: b*x,\n",
    "  x0 = 1.0,\n",
    "  tmax=1,\n",
    "  exact_solution = lambda x0, t, w: x0*np.exp((a-b**2/2)*t+b*w)\n",
    ")\n",
    "\n",
    "\n",
    "solvers = [\n",
    "  SDESolver(adaptive=False, scheme='euler'),\n",
    "  #SDESolver(adaptive=False, scheme='milstein'),\n",
    "]\n",
    "\n",
    "dts = [2**-4, 2**-5, 2**-6, 2**-7]\n",
    "n_rows = 10\n",
    "n_wieners_per_cell = 25\n",
    "\n",
    "results = np.zeros((len(solvers), len(dts), n_rows, n_wieners_per_cell), dtype=dict)  # solver x dt x wiener\n",
    "\n",
    "for n_solver, solver in enumerate(solvers):\n",
    "  for n_dt, dt in enumerate(dts):\n",
    "    solver.dt = dt\n",
    "    for n_row in range(n_rows):\n",
    "      solutions = solver.solve_many(problem, n_trajectories=n_wieners_per_cell)\n",
    "      results[n_solver, n_dt, n_row] = solutions"
   ],
   "outputs": [
    {
     "output_type": "stream",
     "name": "stderr",
     "text": [
      "100%|██████████| 25/25 [00:00<00:00, 155.16it/s]\n",
      "100%|██████████| 25/25 [00:00<00:00, 113.36it/s]\n",
      "100%|██████████| 25/25 [00:00<00:00, 137.63it/s]\n",
      "100%|██████████| 25/25 [00:00<00:00, 137.62it/s]\n",
      "100%|██████████| 25/25 [00:00<00:00, 180.23it/s]\n",
      "100%|██████████| 25/25 [00:00<00:00, 128.13it/s]\n",
      "100%|██████████| 25/25 [00:00<00:00, 166.61it/s]\n",
      "100%|██████████| 25/25 [00:00<00:00, 127.94it/s]\n",
      "100%|██████████| 25/25 [00:00<00:00, 183.08it/s]\n",
      "100%|██████████| 25/25 [00:00<00:00, 137.97it/s]\n",
      "100%|██████████| 25/25 [00:00<00:00, 104.60it/s]\n",
      "100%|██████████| 25/25 [00:00<00:00, 91.04it/s]\n",
      "100%|██████████| 25/25 [00:00<00:00, 108.38it/s]\n",
      "100%|██████████| 25/25 [00:00<00:00, 97.74it/s] \n",
      "100%|██████████| 25/25 [00:00<00:00, 58.15it/s]\n",
      "100%|██████████| 25/25 [00:00<00:00, 67.07it/s]\n",
      "100%|██████████| 25/25 [00:00<00:00, 73.52it/s]\n",
      "100%|██████████| 25/25 [00:00<00:00, 70.62it/s]\n",
      "100%|██████████| 25/25 [00:00<00:00, 50.66it/s]\n",
      "100%|██████████| 25/25 [00:00<00:00, 83.21it/s]\n",
      "100%|██████████| 25/25 [00:00<00:00, 46.97it/s]\n",
      "100%|██████████| 25/25 [00:00<00:00, 29.94it/s]\n",
      "100%|██████████| 25/25 [00:00<00:00, 37.07it/s]\n",
      "100%|██████████| 25/25 [00:00<00:00, 39.97it/s]\n",
      "100%|██████████| 25/25 [00:00<00:00, 58.68it/s]\n",
      "100%|██████████| 25/25 [00:00<00:00, 58.35it/s]\n",
      "100%|██████████| 25/25 [00:00<00:00, 56.82it/s]\n",
      "100%|██████████| 25/25 [00:00<00:00, 51.45it/s]\n",
      "100%|██████████| 25/25 [00:00<00:00, 47.72it/s]\n",
      "100%|██████████| 25/25 [00:00<00:00, 42.91it/s]\n",
      "100%|██████████| 25/25 [00:01<00:00, 22.97it/s]\n",
      "100%|██████████| 25/25 [00:01<00:00, 24.61it/s]\n",
      "100%|██████████| 25/25 [00:01<00:00, 21.00it/s]\n",
      "100%|██████████| 25/25 [00:01<00:00, 20.09it/s]\n",
      "100%|██████████| 25/25 [00:01<00:00, 21.73it/s]\n",
      "100%|██████████| 25/25 [00:01<00:00, 18.16it/s]\n",
      "100%|██████████| 25/25 [00:01<00:00, 20.20it/s]\n",
      "100%|██████████| 25/25 [00:00<00:00, 30.55it/s]\n",
      "100%|██████████| 25/25 [00:00<00:00, 30.99it/s]\n",
      "100%|██████████| 25/25 [00:00<00:00, 29.69it/s]\n"
     ]
    }
   ],
   "metadata": {}
  },
  {
   "cell_type": "code",
   "execution_count": 77,
   "source": [
    "s = results.shape\n",
    "results_flat = results.flatten()\n",
    "def f(sol):\n",
    "  x = sol['solution_values'][-1]\n",
    "  x_exact = problem.exact_solution(problem.x0, sol['time_values'][-1], sol['wiener_values'][-1])\n",
    "  e = abs(x - x_exact)\n",
    "  return e\n",
    "errors = np.array([f(x) for x in results_flat]).reshape(s)\n",
    "errors.shape"
   ],
   "outputs": [
    {
     "output_type": "execute_result",
     "data": {
      "text/plain": [
       "(1, 4, 10, 25)"
      ]
     },
     "metadata": {},
     "execution_count": 77
    }
   ],
   "metadata": {}
  },
  {
   "cell_type": "code",
   "execution_count": 78,
   "source": [
    "tabelka = errors[0, :, :, :].mean(axis=-1).T  # table 9.3.2\n",
    "tabelka"
   ],
   "outputs": [
    {
     "output_type": "execute_result",
     "data": {
      "text/plain": [
       "array([[0.56518399, 0.65950864, 0.19690504, 0.20958223],\n",
       "       [0.6772475 , 1.19819114, 0.18282874, 0.18074911],\n",
       "       [0.84024718, 0.31052947, 0.3657544 , 0.26101287],\n",
       "       [0.50064731, 0.61189162, 0.26361279, 0.20274393],\n",
       "       [0.66442902, 0.44949152, 0.24668586, 0.14517243],\n",
       "       [0.29288093, 0.22092658, 0.27674665, 0.20432677],\n",
       "       [0.54417726, 0.28192614, 0.29337388, 0.09935175],\n",
       "       [0.86231286, 0.27727435, 0.15704454, 0.29025942],\n",
       "       [0.92075485, 0.42518642, 0.17424531, 0.17062894],\n",
       "       [0.4284626 , 0.2898782 , 0.36098522, 0.20372754]])"
      ]
     },
     "metadata": {},
     "execution_count": 78
    }
   ],
   "metadata": {}
  },
  {
   "cell_type": "markdown",
   "source": [
    "# Exercise 9.3.3"
   ],
   "metadata": {}
  },
  {
   "cell_type": "code",
   "execution_count": 102,
   "source": [
    "a = 1.5\n",
    "b = 0.1\n",
    "problem = pychastic.sde_problem.SDEProblem(\n",
    "  lambda x: a*x,\n",
    "  lambda x: b*x,\n",
    "  x0 = 1.0,\n",
    "  tmax=1,\n",
    "  exact_solution = lambda x0, t, w: x0*np.exp((a-b**2/2)*t+b*w)\n",
    ")\n",
    "\n",
    "\n",
    "solvers = [\n",
    "  SDESolver(adaptive=False, scheme='euler'),\n",
    "  #SDESolver(adaptive=False, scheme='milstein'),\n",
    "]\n",
    "\n",
    "dts = [2**-4]\n",
    "n_rows = 100\n",
    "n_wieners_per_cell = 100\n",
    "\n",
    "results = np.zeros((len(solvers), len(dts), n_rows, n_wieners_per_cell), dtype=dict)  # solver x dt x wiener\n",
    "\n",
    "for n_solver, solver in enumerate(solvers):\n",
    "  for n_dt, dt in enumerate(dts):\n",
    "    solver.dt = dt\n",
    "    solutions = solver.solve_many(problem, n_trajectories=n_wieners_per_cell*n_rows)\n",
    "    results[n_solver, n_dt] = np.array(solutions).reshape((n_rows, n_wieners_per_cell))  # n_rows x n_winers_per_cell"
   ],
   "outputs": [
    {
     "output_type": "stream",
     "name": "stderr",
     "text": [
      "100%|██████████| 10000/10000 [00:40<00:00, 246.06it/s]\n"
     ]
    }
   ],
   "metadata": {}
  },
  {
   "cell_type": "code",
   "execution_count": 103,
   "source": [
    "s = results.shape\n",
    "results_flat = results.flatten()\n",
    "def f(sol):\n",
    "  x = sol['solution_values'][-1]\n",
    "  x_exact = problem.exact_solution(problem.x0, sol['time_values'][-1], sol['wiener_values'][-1])\n",
    "  assert np.isclose(sol['time_values'][-1], problem.tmax)\n",
    "  e = abs(x - x_exact)\n",
    "  return e\n",
    "errors = np.array([f(x) for x in results_flat]).reshape(s)\n",
    "errors.shape"
   ],
   "outputs": [
    {
     "output_type": "execute_result",
     "data": {
      "text/plain": [
       "(1, 1, 100, 100)"
      ]
     },
     "metadata": {},
     "execution_count": 103
    }
   ],
   "metadata": {}
  },
  {
   "cell_type": "code",
   "execution_count": 104,
   "source": [
    "column = errors[0,0].mean(axis=-1)\n",
    "means = [\n",
    "  column[:10].mean(),\n",
    "  column[:20].mean(),\n",
    "  column[:40].mean(),\n",
    "  column[:100].mean(),\n",
    "]\n",
    "\n",
    "stds = [\n",
    "  column[:10].std()/np.sqrt(10),\n",
    "  column[:20].std()/np.sqrt(20),\n",
    "  column[:40].std()/np.sqrt(40),\n",
    "  column[:100].std()/np.sqrt(100),\n",
    "]\n",
    "\n",
    "plt.errorbar([10, 20, 40, 100], means, stds)"
   ],
   "outputs": [
    {
     "output_type": "execute_result",
     "data": {
      "text/plain": [
       "<ErrorbarContainer object of 3 artists>"
      ]
     },
     "metadata": {},
     "execution_count": 104
    },
    {
     "output_type": "display_data",
     "data": {
      "image/png": "[encoded data removed]",
      "text/plain": [
       "<Figure size 432x288 with 1 Axes>"
      ]
     },
     "metadata": {
      "needs_background": "light"
     }
    }
   ],
   "metadata": {}
  },
  {
   "cell_type": "markdown",
   "source": [
    "# Exercise 9.3.4 / 10.3.2"
   ],
   "metadata": {}
  },
  {
   "cell_type": "code",
   "execution_count": 5,
   "source": [
    "%%time\n",
    "\n",
    "a = 1.5\n",
    "b = 1.0#0.1\n",
    "problem = pychastic.sde_problem.SDEProblem(\n",
    "  lambda x: a*x,\n",
    "  lambda x: b*x,\n",
    "  x0 = 1.0,\n",
    "  tmax=1,\n",
    "  exact_solution = lambda x0, t, w: x0*np.exp((a-b**2/2)*t+b*w)\n",
    ")\n",
    "\n",
    "solvers = [\n",
    "  SDESolver(adaptive=False, scheme='euler'),\n",
    "  SDESolver(adaptive=False, scheme='milstein'),\n",
    "  SDESolver(adaptive=False, scheme='wagner_platen'),\n",
    "]\n",
    "\n",
    "#dts = [2**-2, 2**-3, 2**-4, 2**-5, 2**-6]\n",
    "dts = [2**-2, 2**-3, 2**-4, 2**-5, 2**-6, 2**-7]\n",
    "n_rows = 20\n",
    "n_wieners_per_cell = 50#100\n",
    "\n",
    "results = np.zeros((len(solvers), len(dts), n_rows, n_wieners_per_cell), dtype=dict)  # solver x dt x wiener\n",
    "#wieners = [pychastic.wiener.Wiener(seed=i) for i in range(n_wieners_per_cell*n_rows)]  ##\n",
    "\n",
    "for n_solver, solver in enumerate(solvers):\n",
    "  for n_dt, dt in enumerate(dts):\n",
    "    solver.dt = dt\n",
    "    solutions = solver.solve_many(problem, n_trajectories=n_wieners_per_cell*n_rows)\n",
    "    #solutions = solver.solve_many(problem, wieners=wieners)\n",
    "    results[n_solver, n_dt] = np.array(solutions).reshape((n_rows, n_wieners_per_cell))  # n_rows x n_winers_per_cell"
   ],
   "outputs": [
    {
     "output_type": "stream",
     "name": "stderr",
     "text": [
      "100%|██████████| 1000/1000 [00:01<00:00, 776.81it/s]\n",
      "100%|██████████| 1000/1000 [00:01<00:00, 501.55it/s]\n",
      "100%|██████████| 1000/1000 [00:03<00:00, 285.43it/s]\n",
      "100%|██████████| 1000/1000 [00:06<00:00, 145.30it/s]\n",
      "100%|██████████| 1000/1000 [00:13<00:00, 72.61it/s]\n",
      "100%|██████████| 1000/1000 [00:27<00:00, 36.37it/s]\n",
      "100%|██████████| 1000/1000 [00:01<00:00, 888.57it/s]\n",
      "100%|██████████| 1000/1000 [00:01<00:00, 520.42it/s]\n",
      "100%|██████████| 1000/1000 [00:03<00:00, 264.09it/s]\n",
      "100%|██████████| 1000/1000 [00:07<00:00, 139.40it/s]\n",
      "100%|██████████| 1000/1000 [00:14<00:00, 70.27it/s]\n",
      "100%|██████████| 1000/1000 [00:28<00:00, 35.64it/s]\n",
      "100%|██████████| 1000/1000 [00:01<00:00, 605.75it/s]\n",
      "100%|██████████| 1000/1000 [00:02<00:00, 355.08it/s]\n",
      "100%|██████████| 1000/1000 [00:04<00:00, 217.22it/s]\n",
      "100%|██████████| 1000/1000 [00:08<00:00, 117.31it/s]\n",
      "100%|██████████| 1000/1000 [00:18<00:00, 54.48it/s]\n",
      "100%|██████████| 1000/1000 [00:31<00:00, 32.18it/s]"
     ]
    },
    {
     "output_type": "stream",
     "name": "stdout",
     "text": [
      "CPU times: user 3min 37s, sys: 1min 13s, total: 4min 50s\n",
      "Wall time: 3min 1s\n"
     ]
    },
    {
     "output_type": "stream",
     "name": "stderr",
     "text": [
      "\n"
     ]
    }
   ],
   "metadata": {}
  },
  {
   "cell_type": "code",
   "execution_count": 3,
   "source": [
    "s = results.shape\n",
    "results_flat = results.flatten()\n",
    "def f(sol):\n",
    "  x = sol['solution_values'][-1]\n",
    "  x_exact = problem.exact_solution(problem.x0, sol['time_values'][-1], sol['wiener_values'][-1])\n",
    "  assert np.isclose(sol['time_values'][-1], problem.tmax)\n",
    "  e = abs(x - x_exact)\n",
    "  return e\n",
    "errors = np.array([f(x) for x in results_flat]).reshape(s)\n",
    "errors.shape"
   ],
   "outputs": [
    {
     "output_type": "execute_result",
     "data": {
      "text/plain": [
       "(3, 6, 20, 20)"
      ]
     },
     "metadata": {},
     "execution_count": 3
    }
   ],
   "metadata": {}
  },
  {
   "cell_type": "code",
   "execution_count": 4,
   "source": [
    "table_euler = errors[0].mean(axis=-1).T\n",
    "table_milstein = errors[1].mean(axis=-1).T\n",
    "table_wp = errors[2].mean(axis=-1).T\n",
    "\n",
    "mu_euler = table_euler.mean(axis=0)\n",
    "sd_euler = table_euler.std(axis=0)/np.sqrt(n_wieners_per_cell)\n",
    "mu_milstein = table_milstein.mean(axis=0)\n",
    "sd_milstein = table_milstein.std(axis=0)/np.sqrt(n_wieners_per_cell)\n",
    "mu_wp = table_wp.mean(axis=0)\n",
    "sd_wp = table_wp.std(axis=0)/np.sqrt(n_wieners_per_cell)\n",
    "\n",
    "plt.errorbar(dts, mu_euler, 2*sd_euler, capsize=5)\n",
    "plt.errorbar(dts, mu_milstein, 2*sd_milstein, capsize=5)\n",
    "plt.errorbar(dts, mu_wp, 2*sd_wp, capsize=5)\n",
    "#plt.xlim(0, 0.02)\n",
    "#plt.ylim(0, 0.1)\n",
    "plt.show()\n",
    "\n",
    "plt.plot(np.log2(dts), np.log2(mu_euler), marker='x')\n",
    "plt.plot(np.log2(dts), np.log2(mu_milstein), marker='x')\n",
    "plt.plot(np.log2(dts), np.log2(mu_wp), marker='x')"
   ],
   "outputs": [
    {
     "output_type": "display_data",
     "data": {
      "image/png": "[encoded data removed]",
      "text/plain": [
       "<Figure size 432x288 with 1 Axes>"
      ]
     },
     "metadata": {
      "needs_background": "light"
     }
    },
    {
     "output_type": "execute_result",
     "data": {
      "text/plain": [
       "[<matplotlib.lines.Line2D at 0x7f300015a3d0>]"
      ]
     },
     "metadata": {},
     "execution_count": 4
    },
    {
     "output_type": "display_data",
     "data": {
      "image/png": "[encoded data removed]",
      "text/plain": [
       "<Figure size 432x288 with 1 Axes>"
      ]
     },
     "metadata": {
      "needs_background": "light"
     }
    }
   ],
   "metadata": {}
  },
  {
   "cell_type": "code",
   "execution_count": 10,
   "source": [
    "solver = SDESolver(dt=2**-6)\n",
    "solver.solve_many(problem, n_trajectories=1000);"
   ],
   "outputs": [
    {
     "output_type": "stream",
     "name": "stderr",
     "text": [
      "100%|██████████| 1000/1000 [00:16<00:00, 62.44it/s]\n"
     ]
    }
   ],
   "metadata": {}
  },
  {
   "cell_type": "code",
   "execution_count": 30,
   "source": [
    "solution = results[0,0,0]\n",
    "t = solution['time_values']\n",
    "x = solution['solution_values']\n",
    "w = solution['wiener_values']\n",
    "x_exact = problem.exact_solution(problem.x0, t, w)\n",
    "plt.plot(t, x)\n",
    "plt.plot(t, x_exact)"
   ],
   "outputs": [
    {
     "output_type": "execute_result",
     "data": {
      "text/plain": [
       "[<matplotlib.lines.Line2D at 0x7f7f3c43b0a0>]"
      ]
     },
     "metadata": {},
     "execution_count": 30
    },
    {
     "output_type": "display_data",
     "data": {
      "image/png": "[encoded data removed]",
      "text/plain": [
       "<Figure size 432x288 with 1 Axes>"
      ]
     },
     "metadata": {
      "needs_background": "light"
     }
    }
   ],
   "metadata": {}
  }
 ],
 "metadata": {
  "orig_nbformat": 4,
  "language_info": {
   "name": "python",
   "version": "3.8.10",
   "mimetype": "text/x-python",
   "codemirror_mode": {
    "name": "ipython",
    "version": 3
   },
   "pygments_lexer": "ipython3",
   "nbconvert_exporter": "python",
   "file_extension": ".py"
  },
  "kernelspec": {
   "name": "python3",
   "display_name": "Python 3.8.10 64-bit ('venv': venv)"
  },
  "interpreter": {
   "hash": "24a499225f1bb0253212e5f2aabe6af9eec4fb315dfbfacc83264a5f64a92846"
  }
 },
 "nbformat": 4,
 "nbformat_minor": 2
}