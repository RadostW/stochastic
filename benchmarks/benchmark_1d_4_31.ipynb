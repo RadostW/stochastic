{
 "cells": [
  {
   "cell_type": "code",
   "execution_count": 1,
   "metadata": {},
   "outputs": [
    {
     "name": "stderr",
     "output_type": "stream",
     "text": [
      "WARNING:absl:No GPU/TPU found, falling back to CPU. (Set TF_CPP_MIN_LOG_LEVEL=0 and rerun for more info.)\n"
     ]
    }
   ],
   "source": [
    "from pychastic.problems.kp_4_27 import KloedenPlaten4_27\n",
    "from pychastic.sde_solver import SDESolver\n",
    "import pychastic\n",
    "import matplotlib.pyplot as plt\n",
    "import numpy as np\n",
    "import pandas as pd\n",
    "from tqdm import tqdm\n",
    "import jax\n"
   ]
  },
  {
   "cell_type": "markdown",
   "metadata": {},
   "source": [
    "# Exercise 9.3.4 / 10.3.2"
   ]
  },
  {
   "cell_type": "code",
   "execution_count": 4,
   "metadata": {},
   "outputs": [],
   "source": [
    "a = 0.1\n",
    "x0 = 0.5\n",
    "\n",
    "problem = pychastic.sde_problem.SDEProblem(\n",
    "  lambda x: -a**2*x*(1-x**2),\n",
    "  lambda x: a*(1-x**2),\n",
    "  x0 = x0,\n",
    "  tmax=1,\n",
    "  exact_solution = lambda x0, t, w: np.tanh(a*w+np.arctanh(x0))\n",
    ")\n",
    "\n",
    "solvers = [\n",
    "  SDESolver(adaptive=False, scheme='euler'),\n",
    "  SDESolver(adaptive=False, scheme='milstein'),\n",
    "  SDESolver(adaptive=False, scheme='wagner_platen'),\n",
    "]\n",
    "\n",
    "dts = [2**-2, 2**-3, 2**-4, 2**-5, 2**-6, 2**-7]\n",
    "n_rows = 20\n",
    "n_wieners_per_cell = 50"
   ]
  },
  {
   "cell_type": "code",
   "execution_count": 5,
   "metadata": {},
   "outputs": [
    {
     "name": "stderr",
     "output_type": "stream",
     "text": [
      "100%|██████████| 4/4 [00:02<00:00,  1.45it/s]\n",
      "100%|██████████| 8/8 [00:02<00:00,  3.83it/s]\n",
      "100%|██████████| 16/16 [00:02<00:00,  5.94it/s]\n",
      "100%|██████████| 32/32 [00:04<00:00,  7.11it/s]\n",
      "100%|██████████| 64/64 [00:08<00:00,  7.60it/s]\n",
      "100%|██████████| 128/128 [00:15<00:00,  8.32it/s]\n",
      "100%|██████████| 4/4 [00:01<00:00,  3.78it/s]\n",
      "100%|██████████| 8/8 [00:01<00:00,  7.06it/s]\n",
      "100%|██████████| 16/16 [00:02<00:00,  7.35it/s]\n",
      "100%|██████████| 32/32 [00:02<00:00, 10.88it/s]\n",
      "100%|██████████| 64/64 [00:05<00:00, 11.63it/s]\n",
      "100%|██████████| 128/128 [00:10<00:00, 11.71it/s]\n",
      "100%|██████████| 4/4 [00:02<00:00,  1.45it/s]\n",
      "100%|██████████| 8/8 [00:02<00:00,  3.09it/s]\n",
      "100%|██████████| 16/16 [00:05<00:00,  2.82it/s]\n",
      "100%|██████████| 32/32 [00:09<00:00,  3.49it/s]\n",
      "100%|██████████| 64/64 [00:17<00:00,  3.66it/s]\n",
      "100%|██████████| 128/128 [00:34<00:00,  3.71it/s]"
     ]
    },
    {
     "name": "stdout",
     "output_type": "stream",
     "text": [
      "CPU times: user 2min 13s, sys: 3.89 s, total: 2min 17s\n",
      "Wall time: 2min 13s\n"
     ]
    },
    {
     "name": "stderr",
     "output_type": "stream",
     "text": [
      "\n"
     ]
    }
   ],
   "source": [
    "%%time\n",
    "\n",
    "jax.config.update('jax_disable_jit', True)\n",
    "\n",
    "end_errors = jax.numpy.zeros((len(solvers), len(dts), n_rows, n_wieners_per_cell))\n",
    "\n",
    "for n_solver, solver in enumerate(solvers):\n",
    "  for n_dt, dt in enumerate(dts):\n",
    "    solver.dt = dt\n",
    "    solutions = solver.solve_many(problem, n_trajectories=n_wieners_per_cell*n_rows)\n",
    "\n",
    "    end_times = solutions['time_values'][:, [-1]]\n",
    "    end_values = solutions['solution_values'][:, -1]\n",
    "    end_wieners = solutions['wiener_values'][:, -1]\n",
    "    exact_values = problem.exact_solution(problem.x0, end_times, end_wieners)\n",
    "\n",
    "    end_errors = end_errors.at[n_solver, n_dt].set( (end_values - exact_values).reshape(n_rows, n_wieners_per_cell) )\n",
    "\n",
    "end_errors = jax.numpy.abs(end_errors)"
   ]
  },
  {
   "cell_type": "code",
   "execution_count": 6,
   "metadata": {},
   "outputs": [
    {
     "data": {
      "text/plain": [
       "(3, 6, 20, 50)"
      ]
     },
     "execution_count": 6,
     "metadata": {},
     "output_type": "execute_result"
    }
   ],
   "source": [
    "end_errors.shape"
   ]
  },
  {
   "cell_type": "code",
   "execution_count": 7,
   "metadata": {},
   "outputs": [
    {
     "data": {
      "image/png": "[encoded data removed]",
      "text/plain": [
       "<Figure size 432x288 with 1 Axes>"
      ]
     },
     "metadata": {
      "needs_background": "light"
     },
     "output_type": "display_data"
    },
    {
     "data": {
      "text/plain": [
       "<matplotlib.legend.Legend at 0x7f1a4e13bfd0>"
      ]
     },
     "execution_count": 7,
     "metadata": {},
     "output_type": "execute_result"
    },
    {
     "data": {
      "image/png": "[encoded data removed]",
      "text/plain": [
       "<Figure size 432x288 with 1 Axes>"
      ]
     },
     "metadata": {
      "needs_background": "light"
     },
     "output_type": "display_data"
    }
   ],
   "source": [
    "table_euler = end_errors[0].mean(axis=-1).T\n",
    "table_milstein = end_errors[1].mean(axis=-1).T\n",
    "table_wp = end_errors[2].mean(axis=-1).T\n",
    "\n",
    "mu_euler = table_euler.mean(axis=0)\n",
    "sd_euler = table_euler.std(axis=0)/np.sqrt(n_wieners_per_cell)\n",
    "\n",
    "mu_milstein = table_milstein.mean(axis=0)\n",
    "sd_milstein = table_milstein.std(axis=0)/np.sqrt(n_wieners_per_cell)\n",
    "\n",
    "mu_wp = table_wp.mean(axis=0)\n",
    "sd_wp = table_wp.std(axis=0)/np.sqrt(n_wieners_per_cell)\n",
    "\n",
    "plt.errorbar(dts, mu_euler, 2*sd_euler, capsize=5)\n",
    "plt.errorbar(dts, mu_milstein, 2*sd_milstein, capsize=5)\n",
    "plt.errorbar(dts, mu_wp, 2*sd_wp, capsize=5)\n",
    "#plt.xlim(0, 0.02)\n",
    "#plt.ylim(0, 0.1)\n",
    "plt.show()\n",
    "\n",
    "plt.plot(np.log2(dts), np.log2(mu_euler), marker='x', label='euler')\n",
    "plt.plot(np.log2(dts), np.log2(mu_milstein), marker='x', label='mil')\n",
    "plt.plot(np.log2(dts), np.log2(mu_wp), marker='x', label='wp')\n",
    "plt.legend()"
   ]
  },
  {
   "cell_type": "code",
   "execution_count": null,
   "metadata": {},
   "outputs": [],
   "source": []
  }
 ],
 "metadata": {
  "interpreter": {
   "hash": "24a499225f1bb0253212e5f2aabe6af9eec4fb315dfbfacc83264a5f64a92846"
  },
  "kernelspec": {
   "display_name": "Python 3.8.10 64-bit ('venv': venv)",
   "name": "python3"
  },
  "language_info": {
   "codemirror_mode": {
    "name": "ipython",
    "version": 3
   },
   "file_extension": ".py",
   "mimetype": "text/x-python",
   "name": "python",
   "nbconvert_exporter": "python",
   "pygments_lexer": "ipython3",
   "version": "3.8.10"
  },
  "orig_nbformat": 4
 },
 "nbformat": 4,
 "nbformat_minor": 2
}
