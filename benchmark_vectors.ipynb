{
 "cells": [
  {
   "cell_type": "code",
   "execution_count": 1,
   "source": [
    "from pychastic.sde_solver import SDESolver\n",
    "from pychastic.sde_solver import VectorSDESolver\n",
    "import pychastic\n",
    "import matplotlib.pyplot as plt\n",
    "import numpy as np\n",
    "import jax.numpy as jnp\n",
    "from tqdm import tqdm\n"
   ],
   "outputs": [],
   "metadata": {}
  },
  {
   "cell_type": "markdown",
   "source": [
    "# Testing Vector Euler"
   ],
   "metadata": {}
  },
  {
   "cell_type": "code",
   "execution_count": 121,
   "source": [
    "problem = pychastic.sde_problem.VectorSDEProblem(\n",
    "  lambda x: jnp.array([1/(2*x[0]),0]),       # [1/2r,0]\n",
    "  lambda x: jnp.array([\n",
    "    [jnp.cos(x[1]),jnp.sin(x[1])],           # cos \\phi,      sin \\phi\n",
    "    [-jnp.sin(x[1])/x[0],jnp.cos(x[1])/x[0]] # -sin \\phi / r, cos \\phi / r\n",
    "  ]),\n",
    "  dimension = 2,\n",
    "  noiseterms= 2,\n",
    "  x0 = jnp.array([1.0,0.0]), # r=1.0, \\phi=0.0\n",
    "  tmax=1.0\n",
    ")\n",
    "\n",
    "\n",
    "solvers = [\n",
    "  pychastic.sde_solver.VectorSDESolver(scheme='euler'),\n",
    "  #SDESolver(adaptive=False, scheme='milstein'),\n",
    "]\n",
    "\n",
    "dts = [2**-4, 2**-5, 2**-6, 2**-7]\n",
    "n_rows = 10\n",
    "n_wieners_per_cell = 100\n",
    "\n",
    "results = np.zeros((len(solvers), len(dts), n_rows, n_wieners_per_cell), dtype=dict)  # solver x dt x wiener\n",
    "\n",
    "for n_solver, solver in enumerate(solvers):\n",
    "  for n_dt, dt in tqdm(enumerate(dts)):\n",
    "    solver.dt = dt\n",
    "    #for n_row in tqdm(range(n_rows)):\n",
    "    for n_row in range(n_rows):\n",
    "      solutions = solver.solve_many(problem,n_trajectories=n_wieners_per_cell)\n",
    "      #solutions = np.array([solver.solve(problem) for it in range(n_wieners_per_cell)])\n",
    "      results[n_solver, n_dt, n_row] = solutions"
   ],
   "outputs": [
    {
     "output_type": "stream",
     "name": "stderr",
     "text": [
      "100%|██████████| 100/100 [00:00<00:00, 133.84it/s]\n",
      "100%|██████████| 100/100 [00:00<00:00, 162.86it/s]\n",
      "\n",
      "100%|██████████| 100/100 [00:00<00:00, 132.17it/s]\n",
      "100%|██████████| 100/100 [00:00<00:00, 125.02it/s]\n",
      "100%|██████████| 100/100 [00:00<00:00, 155.02it/s]\n",
      "100%|██████████| 100/100 [00:00<00:00, 155.17it/s]\n",
      "100%|██████████| 100/100 [00:00<00:00, 174.58it/s]\n",
      "100%|██████████| 100/100 [00:00<00:00, 169.86it/s]\n",
      "100%|██████████| 100/100 [00:00<00:00, 182.01it/s]\n",
      "100%|██████████| 100/100 [00:00<00:00, 177.27it/s]\n",
      "100%|██████████| 100/100 [00:00<00:00, 123.16it/s]\n",
      "100%|██████████| 100/100 [00:01<00:00, 85.50it/s]\n",
      "100%|██████████| 100/100 [00:00<00:00, 126.00it/s]\n",
      "100%|██████████| 100/100 [00:00<00:00, 132.34it/s]\n",
      "100%|██████████| 100/100 [00:00<00:00, 122.70it/s]\n",
      "100%|██████████| 100/100 [00:00<00:00, 102.62it/s]\n",
      "100%|██████████| 100/100 [00:01<00:00, 90.08it/s]\n",
      "100%|██████████| 100/100 [00:00<00:00, 116.24it/s]\n",
      "100%|██████████| 100/100 [00:00<00:00, 112.82it/s]\n",
      "100%|██████████| 100/100 [00:00<00:00, 129.06it/s]\n",
      "100%|██████████| 100/100 [00:01<00:00, 82.50it/s]\n",
      "100%|██████████| 100/100 [00:01<00:00, 75.41it/s]\n",
      "100%|██████████| 100/100 [00:01<00:00, 62.55it/s]\n",
      "100%|██████████| 100/100 [00:01<00:00, 83.98it/s]\n",
      "100%|██████████| 100/100 [00:00<00:00, 101.84it/s]\n",
      "100%|██████████| 100/100 [00:01<00:00, 97.90it/s]\n",
      "100%|██████████| 100/100 [00:01<00:00, 88.73it/s]\n",
      "100%|██████████| 100/100 [00:01<00:00, 88.35it/s]\n",
      "100%|██████████| 100/100 [00:01<00:00, 78.49it/s]\n",
      "100%|██████████| 100/100 [00:01<00:00, 65.18it/s]\n",
      "100%|██████████| 100/100 [00:01<00:00, 53.37it/s]\n",
      "100%|██████████| 100/100 [00:01<00:00, 52.31it/s]\n",
      "100%|██████████| 100/100 [00:02<00:00, 44.24it/s]\n",
      "100%|██████████| 100/100 [00:02<00:00, 42.40it/s]\n",
      "100%|██████████| 100/100 [00:02<00:00, 41.28it/s]\n",
      "100%|██████████| 100/100 [00:01<00:00, 51.10it/s]\n",
      "100%|██████████| 100/100 [00:02<00:00, 40.08it/s]\n",
      "100%|██████████| 100/100 [00:02<00:00, 47.53it/s]\n",
      "100%|██████████| 100/100 [00:02<00:00, 49.01it/s]\n",
      "100%|██████████| 100/100 [00:01<00:00, 63.48it/s]\n",
      "4it [00:49, 12.47s/it]\n"
     ]
    }
   ],
   "metadata": {}
  },
  {
   "cell_type": "code",
   "execution_count": 176,
   "source": [
    "s = results.shape\n",
    "results_flat = results.flatten()\n",
    "def to_cartesian(x):\n",
    "  return x[0]*jnp.array([jnp.cos(x[1]),jnp.sin(x[1])])\n",
    "def f(sol):\n",
    "  x = to_cartesian(sol['solution_values'][-1])\n",
    "  x_exact = sol['wiener_values'][-1] + jnp.array([1,0])\n",
    "  e = jnp.sqrt(jnp.sum((x - x_exact)**2)) # L2 norm error\n",
    "  return e\n",
    "errors = np.array([f(x) for x in results_flat]).reshape(s)\n",
    "errors.shape"
   ],
   "outputs": [
    {
     "output_type": "execute_result",
     "data": {
      "text/plain": [
       "(1, 4, 10, 100)"
      ]
     },
     "metadata": {},
     "execution_count": 176
    }
   ],
   "metadata": {}
  },
  {
   "cell_type": "code",
   "execution_count": 190,
   "source": [
    "table_euler = errors[0].mean(axis=-1).T\n",
    "mu_euler = table_euler.mean(axis=0)\n",
    "sd_euler = table_euler.std(axis=0)/np.sqrt(n_wieners_per_cell)\n",
    "mu_pred = [1.6*x**(1/2) for x in jnp.linspace(0.0,0.07,100)]\n",
    "plt.errorbar(dts, mu_euler, 2*sd_euler, capsize=5, marker='o')\n",
    "plt.xlabel('Step size')\n",
    "plt.ylabel('$L_2$ error')\n",
    "plt.plot(jnp.linspace(0,0.07,100), mu_pred)"
   ],
   "outputs": [
    {
     "output_type": "execute_result",
     "data": {
      "text/plain": [
       "[<matplotlib.lines.Line2D at 0x7f1142224e10>]"
      ]
     },
     "metadata": {},
     "execution_count": 190
    },
    {
     "output_type": "display_data",
     "data": {
      "image/png": "[encoded data removed]",
      "text/plain": [
       "<Figure size 432x288 with 1 Axes>"
      ]
     },
     "metadata": {
      "needs_background": "light"
     }
    }
   ],
   "metadata": {}
  }
 ],
 "metadata": {
  "orig_nbformat": 4,
  "language_info": {
   "name": "python",
   "version": "3.6.9",
   "mimetype": "text/x-python",
   "codemirror_mode": {
    "name": "ipython",
    "version": 3
   },
   "pygments_lexer": "ipython3",
   "nbconvert_exporter": "python",
   "file_extension": ".py"
  },
  "kernelspec": {
   "name": "python3",
   "display_name": "Python 3.6.9 64-bit ('stoch_env': venv)"
  },
  "interpreter": {
   "hash": "b9a5c170018556cfdc05ba186f72ea65517f61c6ceef7234e08db3dad63a63b2"
  }
 },
 "nbformat": 4,
 "nbformat_minor": 2
}