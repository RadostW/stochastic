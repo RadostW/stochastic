{
 "cells": [
  {
   "cell_type": "code",
   "execution_count": 2,
   "source": [
    "#from pychastic.sde_solver import SDESolver\n",
    "#from pychastic.sde_solver import VectorSDESolver\n",
    "import pychastic\n",
    "import matplotlib.pyplot as plt\n",
    "import numpy as np\n",
    "import jax.numpy as jnp\n",
    "from tqdm import tqdm\n"
   ],
   "outputs": [],
   "metadata": {}
  },
  {
   "cell_type": "markdown",
   "source": [
    "# Testing Vector Euler"
   ],
   "metadata": {}
  },
  {
   "cell_type": "code",
   "execution_count": 7,
   "source": [
    "problem = pychastic.sde_problem.VectorSDEProblem(\n",
    "  lambda x: jnp.array([1/(2*x[0]),0]),       # [1/2r,0]\n",
    "  lambda x: jnp.array([\n",
    "    [jnp.cos(x[1]),jnp.sin(x[1])],           # cos \\phi,      sin \\phi\n",
    "    [-jnp.sin(x[1])/x[0],jnp.cos(x[1])/x[0]] # -sin \\phi / r, cos \\phi / r\n",
    "  ]),\n",
    "  dimension = 2,\n",
    "  noiseterms= 2,\n",
    "  x0 = jnp.array([1.0,0.0]), # r=1.0, \\phi=0.0\n",
    "  tmax=1.0\n",
    ")\n",
    "\n",
    "\n",
    "solvers = [\n",
    "  pychastic.sde_solver.VectorSDESolver(scheme='euler'),\n",
    "  pychastic.sde_solver.VectorSDESolver(scheme='milstein'),\n",
    "]\n",
    "\n",
    "dts = [2**-5, 2**-6, 2**-7, 2**-8]\n",
    "n_rows = 2\n",
    "n_wieners_per_cell = 2\n",
    "\n",
    "results = np.zeros((len(solvers), len(dts), n_rows, n_wieners_per_cell), dtype=dict)  # solver x dt x wiener\n",
    "\n",
    "for n_solver, solver in enumerate(solvers):\n",
    "  for n_dt, dt in tqdm(enumerate(dts)):\n",
    "    solver.dt = dt\n",
    "    #for n_row in tqdm(range(n_rows)):\n",
    "    for n_row in range(n_rows):\n",
    "      #solutions = solver.solve_many(problem,n_trajectories=n_wieners_per_cell)\n",
    "      solutions = np.array([solver.solve(problem) for it in range(n_wieners_per_cell)])\n",
    "      print(solutions[0].shape)\n",
    "      results[n_solver, n_dt, n_row] = solutions"
   ],
   "outputs": [
    {
     "output_type": "stream",
     "name": "stderr",
     "text": [
      "0it [00:00, ?it/s]ipykernel_launcher:31: VisibleDeprecationWarning: Creating an ndarray from ragged nested sequences (which is a list-or-tuple of lists-or-tuples-or ndarrays with different lengths or shapes) is deprecated. If you meant to do this, you must specify 'dtype=object' when creating the ndarray\n",
      "0it [00:00, ?it/s]"
     ]
    },
    {
     "output_type": "stream",
     "name": "stdout",
     "text": [
      "(2, 3)\n"
     ]
    },
    {
     "output_type": "stream",
     "name": "stderr",
     "text": [
      "\n"
     ]
    },
    {
     "output_type": "error",
     "ename": "ValueError",
     "evalue": "could not broadcast input array from shape (2,2,3) into shape (2)",
     "traceback": [
      "\u001b[0;31m---------------------------------------------------------------------------\u001b[0m",
      "\u001b[0;31mValueError\u001b[0m                                Traceback (most recent call last)",
      "\u001b[0;32m<ipython-input-7-cbe9839b5b65>\u001b[0m in \u001b[0;36m<module>\u001b[0;34m\u001b[0m\n\u001b[1;32m     31\u001b[0m       \u001b[0msolutions\u001b[0m \u001b[0;34m=\u001b[0m \u001b[0mnp\u001b[0m\u001b[0;34m.\u001b[0m\u001b[0marray\u001b[0m\u001b[0;34m(\u001b[0m\u001b[0;34m[\u001b[0m\u001b[0msolver\u001b[0m\u001b[0;34m.\u001b[0m\u001b[0msolve\u001b[0m\u001b[0;34m(\u001b[0m\u001b[0mproblem\u001b[0m\u001b[0;34m)\u001b[0m \u001b[0;32mfor\u001b[0m \u001b[0mit\u001b[0m \u001b[0;32min\u001b[0m \u001b[0mrange\u001b[0m\u001b[0;34m(\u001b[0m\u001b[0mn_wieners_per_cell\u001b[0m\u001b[0;34m)\u001b[0m\u001b[0;34m]\u001b[0m\u001b[0;34m)\u001b[0m\u001b[0;34m\u001b[0m\u001b[0;34m\u001b[0m\u001b[0m\n\u001b[1;32m     32\u001b[0m       \u001b[0mprint\u001b[0m\u001b[0;34m(\u001b[0m\u001b[0msolutions\u001b[0m\u001b[0;34m[\u001b[0m\u001b[0;36m0\u001b[0m\u001b[0;34m]\u001b[0m\u001b[0;34m.\u001b[0m\u001b[0mshape\u001b[0m\u001b[0;34m)\u001b[0m\u001b[0;34m\u001b[0m\u001b[0;34m\u001b[0m\u001b[0m\n\u001b[0;32m---> 33\u001b[0;31m       \u001b[0mresults\u001b[0m\u001b[0;34m[\u001b[0m\u001b[0mn_solver\u001b[0m\u001b[0;34m,\u001b[0m \u001b[0mn_dt\u001b[0m\u001b[0;34m,\u001b[0m \u001b[0mn_row\u001b[0m\u001b[0;34m]\u001b[0m \u001b[0;34m=\u001b[0m \u001b[0msolutions\u001b[0m\u001b[0;34m\u001b[0m\u001b[0;34m\u001b[0m\u001b[0m\n\u001b[0m",
      "\u001b[0;31mValueError\u001b[0m: could not broadcast input array from shape (2,2,3) into shape (2)"
     ]
    }
   ],
   "metadata": {}
  },
  {
   "cell_type": "code",
   "execution_count": 219,
   "source": [
    "s = results.shape\n",
    "results_flat = results.flatten()\n",
    "def to_cartesian(x):\n",
    "  return x[0]*jnp.array([jnp.cos(x[1]),jnp.sin(x[1])])\n",
    "def f(sol):\n",
    "  x = to_cartesian(sol['solution_values'][-1])\n",
    "  x_exact = sol['wiener_values'][-1] + jnp.array([1,0])\n",
    "  e = jnp.sqrt(jnp.sum((x - x_exact)**2)) # L2 norm error\n",
    "  return e\n",
    "errors = np.array([f(x) for x in results_flat]).reshape(s)\n",
    "errors.shape"
   ],
   "outputs": [
    {
     "output_type": "execute_result",
     "data": {
      "text/plain": [
       "(2, 4, 20, 20)"
      ]
     },
     "metadata": {},
     "execution_count": 219
    }
   ],
   "metadata": {}
  },
  {
   "cell_type": "code",
   "execution_count": 222,
   "source": [
    "table_euler = errors[0].mean(axis=-1).T\n",
    "mu_euler = table_euler.mean(axis=0)\n",
    "sd_euler = table_euler.std(axis=0)/np.sqrt(n_wieners_per_cell)\n",
    "\n",
    "table_milstein = errors[1].mean(axis=-1).T\n",
    "mu_milstein = table_milstein.mean(axis=0)\n",
    "sd_milstein = table_milstein.std(axis=0)/np.sqrt(n_wieners_per_cell)\n",
    "\n",
    "lsp = jnp.linspace(0.0,0.035,100)\n",
    "mu_pred_euler = [1.6*x**(1/2) for x in lsp]\n",
    "mu_pred_milstein = [10*x for x in lsp]\n",
    "mu_pred_milstein_wolfram = [2*x**(2/3) for x in lsp]\n",
    "plt.errorbar(dts, mu_euler, 2*sd_euler, capsize=5, marker='o', label='Euler-Maruyama')\n",
    "plt.errorbar(dts, mu_milstein, 2*sd_milstein, capsize=5, marker='o', label='Milstein')\n",
    "plt.xlabel('Step size')\n",
    "plt.ylabel('$L_2$ error')\n",
    "plt.plot(lsp, mu_pred_euler)\n",
    "plt.plot(lsp, mu_pred_milstein)\n",
    "plt.plot(lsp, mu_pred_milstein_wolfram)\n",
    "plt.legend()"
   ],
   "outputs": [
    {
     "output_type": "execute_result",
     "data": {
      "text/plain": [
       "<matplotlib.legend.Legend at 0x7f1140f6f198>"
      ]
     },
     "metadata": {},
     "execution_count": 222
    },
    {
     "output_type": "display_data",
     "data": {
      "image/png": "[encoded data removed]",
      "text/plain": [
       "<Figure size 432x288 with 1 Axes>"
      ]
     },
     "metadata": {
      "needs_background": "light"
     }
    }
   ],
   "metadata": {}
  }
 ],
 "metadata": {
  "orig_nbformat": 4,
  "language_info": {
   "name": "python",
   "version": "3.6.9",
   "mimetype": "text/x-python",
   "codemirror_mode": {
    "name": "ipython",
    "version": 3
   },
   "pygments_lexer": "ipython3",
   "nbconvert_exporter": "python",
   "file_extension": ".py"
  },
  "kernelspec": {
   "name": "python3",
   "display_name": "Python 3.6.9 64-bit ('stoch_env': venv)"
  },
  "interpreter": {
   "hash": "b9a5c170018556cfdc05ba186f72ea65517f61c6ceef7234e08db3dad63a63b2"
  }
 },
 "nbformat": 4,
 "nbformat_minor": 2
}